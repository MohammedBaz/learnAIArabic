{
  "nbformat": 4,
  "nbformat_minor": 0,
  "metadata": {
    "colab": {
      "name": "Untitled359.ipynb",
      "provenance": [],
      "toc_visible": true,
      "authorship_tag": "ABX9TyNZ6zPesfcqLBmQco/hu1re",
      "include_colab_link": true
    },
    "kernelspec": {
      "name": "python3",
      "display_name": "Python 3"
    },
    "language_info": {
      "name": "python"
    }
  },
  "cells": [
    {
      "cell_type": "markdown",
      "metadata": {
        "id": "view-in-github",
        "colab_type": "text"
      },
      "source": [
        "<a href=\"https://colab.research.google.com/github/MohammedBaz/learnAIArabic/blob/main/lesson1.ipynb\" target=\"_parent\"><img src=\"https://colab.research.google.com/assets/colab-badge.svg\" alt=\"Open In Colab\"/></a>"
      ]
    },
    {
      "cell_type": "markdown",
      "metadata": {
        "id": "3CE_3N4d--Xs"
      },
      "source": [
        "# مقدمة\n",
        "بسم الله وعلي بركه الله نبدأ هذا الحساب ليكون خير معين لمن يرغب في تعلم كيفية برمجه الذكاء الاصطناعي بطريقة سهله وممتعه *ومجانيه*\n",
        "قبل الشروع فى تعلم البرمجه دعونا نلقي نظره عامه علي الذكاء الاصطناعي والمفاهيم المتعلقه به:\n"
      ]
    },
    {
      "cell_type": "markdown",
      "metadata": {
        "id": "t_77qlZ7_-Fk"
      },
      "source": [
        "# **أولا ماذا نعني بالذكاء الاصطناعي؟** \n",
        "\n",
        "\n",
        "مجموعة من المنهجيات البرمجية  التي يمكن من خلالها تمكين الآليات الرقمية من إتمام بعض المهام التي تتطلب تحليل معرفي و فكري مماثل لما يقوم به العقل البشري بغية الوصول الي نتيجه ما."
      ]
    },
    {
      "cell_type": "markdown",
      "metadata": {
        "id": "Bu6hbuhr_eY-"
      },
      "source": [
        "#**ثانيا  :ماهي بعض الامثلة التي يتم استخدام الذكاء الاصطناعي فيه؟**\n",
        "ستخدم الذكاء الاصطناعي بشكل كبير في الاونه الاخير فى نطاق واسع فابتدا من إعاده صياغه الاعمال الروتينة التي يقوم بها الإنسان ورفع كفاءتها كالمساعد الرقمي و ربوتات الدرادشة ومرورا بانظمه استخلاص المعلومات واتخاذ القرارات الهامة كانظمة التداول الذكية وتصنيف الاشياء ووصولا الي نوع جديد من الانظمه التي تتكامل فيها مختلف الاجزء لتكون منظومه تفنية متكامة مذهله كمنظومه الطب الدقيق (الموجه) "
      ]
    },
    {
      "cell_type": "markdown",
      "metadata": {
        "id": "6TTnAvUw_rM9"
      },
      "source": [
        "**# ثالثا ماهي الصعوبات التي يمكن أن أوجهها  اذا رغبت فى تعلم برمجه الذكاء الاصطناعي؟**\n",
        "تنوع وترابط مفاهيم واليات الذكاء الاصطناعي فقد نشاء هذه العلم فى المختبرات العلمية التي تختص بعلوم الاحياء بهدف درسة اليات عمل العقل البشري ومن ثم انتقل المختصين فى العلوم الرياضية لايجاد نماذج رياضية تحاكي ما توصل اليه علماء الاحياء ومن ثم للمختصين فى الحاسب الالي لايجاد  البرمجيات المناسبة لها . وعلي الرغم من الفائدة الجمه التي جنها الذكاء الاصطناعي من هذا التنوع والتنقل بين العلوم الا انه اصبح من الصعوبة بمكان الالمام بالمفاهيم الاساسية فى وقت قياسي ودون الخوض فى كثير من الصعوبات والمفاهيم المتعلقة بمختلف العلوم المرتبطة. "
      ]
    },
    {
      "cell_type": "markdown",
      "metadata": {
        "id": "twExT_VlBa3h"
      },
      "source": [
        "#**رابعا : ماهو الهدف الاساسي من هذا الحساب؟**\n",
        "يهدف بصفة اساسية ليكون مساهمة فاعلة منا فى تبيسط وشرح المفاهيم الاساسية لبرمجة الذكاء الاصطناعي باللغة العربية\n",
        " واعطاء امثلة برمجية علي هذه المفاهيم ايمانا منا بان تقنيات الذكاء الاصطناعي يجب اتقانها في وقت مبكر من كافة أفراد المجتمع ."
      ]
    },
    {
      "cell_type": "markdown",
      "metadata": {
        "id": "_WZ3cpSRBwxh"
      },
      "source": [
        "# **خامسا: ماهي البرمجبات اللازمه لبدء التعلم؟**\n",
        "سوف يتم استخدام لغه python علما بانه لا يتطلب تنصيب اي برمجيات علي الاجهزة الشخصية بل يمكن استخدام المنصات البرمجية المقدمة من بعض مزرودي السحابات الالكترونية ك google colaboratory  أو jupyter  وفق ما توفره من سياسات استخدام"
      ]
    },
    {
      "cell_type": "markdown",
      "metadata": {
        "id": "4JgHzji_Cy2g"
      },
      "source": [
        "#**الفصل الاول :الشبكات العصبية الاصطناعية**\n",
        "\n",
        "\n",
        "\n",
        "يمكن وضع تصور مبسط لاليات عمل العقل البشري باعتبارة مجموعة من الخلايا العصبية المترابطة التي تستقبل البيانات ومن ثم تعمل علي معالجتها للوصول الي قرارات بشانها. وبالتالي عند استقبال اي معلومة وبناء علي اهميتها بالنسبة للانسان فان العقل البشري أما يعمل علي تصعديها فى حاله كونها مهمة وموثرة او تجاهلها فى حاله كونها غير هامه. فعلي سبيل المثال فى حاله تلقي طالب معلومات بشان وجود تقييم معيين والمفرادات التي سوف يتم تغطيتها فى هذا التقييم فانه يقوم تلقائيا بتصعيد تلك المعلومات والعمل بغية الحصول علي اعلي درجه فى هذا التقييم،  بينما اذا تلقي نفس الطالب معلومة عن تقييمات فى مراحل دراسية اخري فانه يمكن ان يستقبل هذه المعلومة دون ان يقوم باي شي تجاهها أو حتي يمكنه ان يتجاهلها.\n",
        "هذا يعني انه يمكن ان نمثل نبسط عملية تصعيد وتجاهل البيانات من قبل العقل البشري كعملية ضرب لتلك البيانات بوزن نسبي علي سبيل المثال 100 فى حالة كون المعلومة هامة و 0 في حاله العلومة غير هامه. \n",
        "\n",
        "كلنا يعي ان التصرف البشري تجاه نفس المعلومة يختلف من شخص لاخر ويعتمد علي عدد كبير من العوامل منها علي سبيل المثال خبره الشخص السابقة ونطاق قدرته علي التفاعل مع معطيات المعلومه  فبالرجوع الي المثال السابق الخاص نري ان طالب ما يمكنه ان يقوم بالاعداد للتقييم من خلال مراجعة المفرادات بنفسة أو الاشتراك مع زملائه في مجموعات مراجعه بينما قد يقوم طالب اخر بالتركيز علي مراجعه نماذج الاسئلة التي  سبق استخدامها لنفس التقييم. \n",
        "تتنامي قدرات العقل البشري علي التعامل مع مختلف البيانات من خلال تدريبية علي معالجة المشاكل . \n",
        "\n",
        " من منظور برمجي دعنا نفترض الخلايا العصبية الاصطناعية هي وحدة برمجية تتكون من داله رياضية مدخلاتها هي البيانات ومخرجاتها هي النتائج المرجوه والتي ترتبط بالاوزان النسبية، كما هو موضح في الشكل التالي: \n",
        " ![خلية عصبية اصطناعية.png](data:image/png;base64,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)\n",
        "\n",
        "\n",
        "بالطبع للحصول علي نتائج مقبوله لما يتم الحصول عليه من العقل البشري لايتم الاكتفاء بخلية عصبية واحده بل يتم تكوين شبكة من تلك الخلايا (علي سبيل المقارنه يوجد مايقارب 86 مليار خلية عصبيّة فى العقل الشري). \n",
        "بناء علي ما سبق فانه يمكن تلخيص الخطوات الاساسية اللازمه لاستخدام الخلايا العصبية الاصطناعية كالتالي:\n",
        "\n",
        "\n",
        "1-\tانشاء شبكة الخليه العصبية الاصطناعية من خلال تعريف انواع الخلايا المستخدمه (فى الوقع يوجد عدد من انواع الخلايا العصبية الاصطناعية التي تم تعريفها لتعمل بطرقه تحاكي ما تعمل به الخلايا العصبية فى الكائنات الحية) واعدادها وطرق ارتباطاها واساليب تغذيتها بالبيانات والنتائج المطلوب حسابها.\n",
        "\n",
        "2-\tتدريب الشبكة علي بعض الامثلة ليتم من خلالها ضبط الاوزان النسبية.\n",
        "\n",
        "3-\tتزويد الشبكة بالقراءات الجديدة المطلوب الحصول علي نتائج منها.   \n"
      ]
    },
    {
      "cell_type": "markdown",
      "metadata": {
        "id": "RWVbu7CwESzk"
      },
      "source": [
        "#**مثال برمجي:**\n",
        "دعونا نختبر قدرة الحاسب الالي علي معرفه العدد القادم فى سلسة من الاعداد\n",
        "نبدا الكود البرمجي باستدعاء المكتبات التي سوف يتم استخدامها فى هذا المثال وذلك باستخدام الصيغة التاليه:\n",
        "\n",
        "from (library name) import (commands/modules)\n",
        "\n",
        "علي سبيل المثال يقوم السطر الاول من الكود التالي باتدعاء امر array من متبه numpy "
      ]
    },
    {
      "cell_type": "markdown",
      "metadata": {
        "id": "YrQOs9LOOka4"
      },
      "source": [
        "# New Section"
      ]
    },
    {
      "cell_type": "code",
      "metadata": {
        "id": "iTCkt3-kEgsE"
      },
      "source": [
        "# define the libraries required to execute the code\n",
        "from numpy import array\n",
        "from keras.models import Sequential\n",
        "from keras.layers import Dense"
      ],
      "execution_count": 1,
      "outputs": []
    },
    {
      "cell_type": "markdown",
      "metadata": {
        "id": "JEufdjEqLgnn"
      },
      "source": [
        "الخطوة القادمه هي تعريف الامثلة المراد تدريب النموذج (الشبكة الاصطناعية ) عليها من خلال اعطاءة المدخلات والنتائج المطلوبة فعلي علي سبيل المثال الاسطر البرمجية التاليه توضح انه فى حاله اعطاء الحاسب الالي رقم 2 فاننا نرغب فى الحصول علي رقم 4 وفى حاله اعطاءة رقم 4 فاننا نرغب فى الحصول علي 6 وكذلك عند اعطاء الشبكة العصبية الاصطناعية رقم 18 فاننا نرغب فى الحصول علي رقم 20 \n"
      ]
    },
    {
      "cell_type": "code",
      "metadata": {
        "id": "7PnC2OuNNZYx"
      },
      "source": [
        "ExamplesInput = [2, 4, 6, 8, 10, 12, 14, 16, 18]\n",
        "ExamplesOutput = [ 4, 6, 8, 10, 12, 14, 16, 18, 20]"
      ],
      "execution_count": 2,
      "outputs": []
    },
    {
      "cell_type": "markdown",
      "metadata": {
        "id": "QQaMMxtaNnwC"
      },
      "source": [
        "\n",
        "الخطوة التالية هي انشاء شبكة الخلية العصبية ، والتي تتكون فى هذا المثال من طبقتين الاولي تتكون من 200 خلية عصبية وتستخدم داله (relu) وتعني بقراءة المدخلات (الامثله) والطبقة الثانية هي طبقة المخرجات والتي تتكون من خلية عصبية وحيدة .بعد تعريف الشبكة يتم تعريف الطرق المستخدمه لاجراء الحساب وطريقة حساب وتصحيح الاخطاء من خلال تعريف (compile) \n"
      ]
    },
    {
      "cell_type": "code",
      "metadata": {
        "id": "1_EP_AJBOGho"
      },
      "source": [
        "# Specify the model \n",
        "model = Sequential()\n",
        "model.add(Dense(200, activation='relu', input_dim=1))\n",
        "model.add(Dense(1))\n",
        "model.compile(optimizer='adam', loss='mse')\n",
        "\n"
      ],
      "execution_count": 3,
      "outputs": []
    },
    {
      "cell_type": "markdown",
      "metadata": {
        "id": "M7yCr7gsOLjx"
      },
      "source": [
        "اصبح النموذج الان جاهز للتدريب ويمكن عرض الامثلة عليه ، هذا يتم من خلال تغذية النموذج بالامثلة التي تم تعريفها مسبقا"
      ]
    },
    {
      "cell_type": "code",
      "metadata": {
        "colab": {
          "base_uri": "https://localhost:8080/"
        },
        "id": "aAgEXJ1COPfJ",
        "outputId": "59a6cfa7-7cf0-45e0-bcb9-f5f2fd727cd9"
      },
      "source": [
        "model.fit(ExamplesInput, ExamplesOutput, epochs=2100, verbose=0)"
      ],
      "execution_count": 4,
      "outputs": [
        {
          "output_type": "execute_result",
          "data": {
            "text/plain": [
              "<keras.callbacks.History at 0x7fd899783650>"
            ]
          },
          "metadata": {},
          "execution_count": 4
        }
      ]
    },
    {
      "cell_type": "markdown",
      "metadata": {
        "id": "1uxQFBP_OjWU"
      },
      "source": [
        ""
      ]
    },
    {
      "cell_type": "markdown",
      "metadata": {
        "id": "zjKWHRfZOR7Z"
      },
      "source": [
        "الخطوة الاخيرة هي اختبار قدرة الحاسب الالي علي الوصول الي النتيجة المطلوبة علي سبيل المثال بفحص الامثل السابقة يتضح لنا انها متسلسلة من الاعداد الزوجية وبالتالي فعند تغذية النموذج برقم (20) فانه من المتوقع ان تكون النتيجه 22 وهذا ما يوضحه الجزء الاخير من هذا الكود البرمجي: "
      ]
    },
    {
      "cell_type": "code",
      "metadata": {
        "id": "AwJP_Fi8OWIa",
        "outputId": "f4d36c92-b46d-4ae4-e146-cfcdbb0a8c55",
        "colab": {
          "base_uri": "https://localhost:8080/"
        }
      },
      "source": [
        "# Test the model \n",
        "Test = array([20])\n",
        "Test = Test.reshape((1, 1))\n",
        "Result = model.predict(Test, verbose=0)\n",
        "print(Result)"
      ],
      "execution_count": 5,
      "outputs": [
        {
          "output_type": "stream",
          "name": "stdout",
          "text": [
            "[[22.001728]]\n"
          ]
        }
      ]
    },
    {
      "cell_type": "markdown",
      "metadata": {
        "id": "qrt-YYnSOgig"
      },
      "source": [
        "تهانينا بهذه تكون قد اتمت اول خطوة نحو كتابة كود برمجي للذكاء الاصطناعي ، لا تقلق اذا ما كنت بعض الاوامر البرمجية غامضه سوف يتم ايضاحها فى الاجزاء القادمة انشاء الله تعالي. يمكنك الان محاولة تغير المعطيات أو اعدد الخلايا العصبية الاصطناعية فى كل شبكة ومعرفه مدي تاثيراتها علي النتائج."
      ]
    },
    {
      "cell_type": "markdown",
      "metadata": {
        "id": "jf4WiehVOcyB"
      },
      "source": [
        " النتيجه \n",
        "[[22.001867]]\n",
        "ملاحظه قد تختلف النتائج النهائية فى بعض الاجهزة نتيجه لطبيعه الحاسب الالي المنفذ للكود البرمجي. \n"
      ]
    }
  ]
}